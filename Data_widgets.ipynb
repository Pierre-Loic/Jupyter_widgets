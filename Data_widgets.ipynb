{
 "cells": [
  {
   "cell_type": "code",
   "execution_count": 1,
   "id": "judicial-naples",
   "metadata": {},
   "outputs": [],
   "source": [
    "import datetime\n",
    "import io\n",
    "import locale\n",
    "import pandas as pd\n",
    "import matplotlib.pyplot as plt\n",
    "import ipywidgets as widgets\n",
    "from IPython.display import display\n",
    "\n",
    "locale.setlocale(locale.LC_ALL, 'fr_FR.UTF-8')\n",
    "plt.style.use('seaborn-whitegrid')"
   ]
  },
  {
   "cell_type": "code",
   "execution_count": 24,
   "id": "integrated-story",
   "metadata": {},
   "outputs": [],
   "source": [
    "def create_df(file_name):\n",
    "    df = pd.read_csv(file_name)\n",
    "    df = df.astype({'Date' : 'datetime64'})\n",
    "    df = df.set_index(\"Date\")\n",
    "    return df\n",
    "\n",
    "try:\n",
    "    df = create_df(\"temperatures.csv\")\n",
    "except FileNotFoundError:\n",
    "    print(\"Fichier CSV introuvable\")"
   ]
  },
  {
   "cell_type": "code",
   "execution_count": 32,
   "id": "coral-purple",
   "metadata": {},
   "outputs": [
    {
     "data": {
      "application/vnd.jupyter.widget-view+json": {
       "model_id": "5920577745cb48e593a65615fbb918c1",
       "version_major": 2,
       "version_minor": 0
      },
      "text/plain": [
       "DatePicker(value=datetime.date(2002, 12, 31), description='Date début')"
      ]
     },
     "metadata": {},
     "output_type": "display_data"
    },
    {
     "data": {
      "application/vnd.jupyter.widget-view+json": {
       "model_id": "676fe6c232074a64b8e55c549cd888e7",
       "version_major": 2,
       "version_minor": 0
      },
      "text/plain": [
       "DatePicker(value=datetime.date(2003, 12, 31), description='Date fin')"
      ]
     },
     "metadata": {},
     "output_type": "display_data"
    },
    {
     "data": {
      "application/vnd.jupyter.widget-view+json": {
       "model_id": "e8fef4a059a64f88bacfebd808044e36",
       "version_major": 2,
       "version_minor": 0
      },
      "text/plain": [
       "Select(description='Ville :', options=('Tokyo', 'Paris'), value='Tokyo')"
      ]
     },
     "metadata": {},
     "output_type": "display_data"
    }
   ],
   "source": [
    "begin_date = widgets.DatePicker(\n",
    "    description='Date début',\n",
    "    disabled=False,\n",
    "    value = datetime.date(2002, 12, 31)\n",
    ")\n",
    "end_date = widgets.DatePicker(\n",
    "    description='Date fin',\n",
    "    disabled=False,\n",
    "    value = datetime.date(2003, 12, 31)\n",
    ")\n",
    "town = widgets.Select(\n",
    "    options=df.columns,\n",
    "    description='Ville :',\n",
    "    disabled=False\n",
    ")\n",
    "display(begin_date, end_date, town)"
   ]
  },
  {
   "cell_type": "code",
   "execution_count": 26,
   "id": "freelance-fundamentals",
   "metadata": {},
   "outputs": [],
   "source": [
    "def select_data(i):\n",
    "    begin_date_value = begin_date.value\n",
    "    end_date_value = begin_date.value + datetime.timedelta(days=i)\n",
    "    select_df = df.loc[begin_date_value:end_date_value, town.value]\n",
    "    plt.figure(figsize=(15,10))\n",
    "    plt.title(\n",
    "    f\"\"\"Température à {town.value} entre le {begin_date_value.strftime(\"%d %B %Y\")} et le {end_date_value.strftime(\"%d %B %Y\")}\"\"\",\n",
    "    fontsize=20,\n",
    "    )\n",
    "    ax = select_df.plot()\n",
    "    ax.set_ylabel(\"Température en °C\", fontsize=16)\n",
    "    ax.set_xlabel(\"Date\", fontsize=16)\n",
    "    plt.tick_params(axis='both', which='major', labelsize=16)\n",
    "    return select_df"
   ]
  },
  {
   "cell_type": "code",
   "execution_count": 31,
   "id": "numerical-relation",
   "metadata": {},
   "outputs": [
    {
     "data": {
      "application/vnd.jupyter.widget-view+json": {
       "model_id": "94df588e18924513829cc05a3bb2cd6d",
       "version_major": 2,
       "version_minor": 0
      },
      "text/plain": [
       "interactive(children=(Play(value=0, description='i', max=365), Output()), _dom_classes=('widget-interact',))"
      ]
     },
     "metadata": {},
     "output_type": "display_data"
    }
   ],
   "source": [
    "play = widgets.Play(\n",
    "    value=0,\n",
    "    min=0,\n",
    "    max=(end_date.value-begin_date.value).days,\n",
    "    step=1,\n",
    "    interval=100,\n",
    "    disabled=False,\n",
    ")\n",
    "widgets.interactive(select_data, i=play)"
   ]
  },
  {
   "cell_type": "code",
   "execution_count": null,
   "id": "adequate-spain",
   "metadata": {},
   "outputs": [],
   "source": []
  },
  {
   "cell_type": "code",
   "execution_count": null,
   "id": "contrary-handy",
   "metadata": {},
   "outputs": [],
   "source": []
  }
 ],
 "metadata": {
  "kernelspec": {
   "display_name": "Python 3",
   "language": "python",
   "name": "python3"
  },
  "language_info": {
   "codemirror_mode": {
    "name": "ipython",
    "version": 3
   },
   "file_extension": ".py",
   "mimetype": "text/x-python",
   "name": "python",
   "nbconvert_exporter": "python",
   "pygments_lexer": "ipython3",
   "version": "3.8.5"
  }
 },
 "nbformat": 4,
 "nbformat_minor": 5
}
